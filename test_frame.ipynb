{
 "cells": [
  {
   "cell_type": "code",
   "execution_count": 3,
   "metadata": {},
   "outputs": [
    {
     "name": "stdout",
     "output_type": "stream",
     "text": [
      "couldn't import doomish\n",
      "Couldn't import doom\n"
     ]
    }
   ],
   "source": [
    "# -*- encoding: utf-8 -*-\n",
    "'''\n",
    "@File    :   game.py\n",
    "@Time    :   2024/09/22 21:33:33\n",
    "@Author  :   junewluo \n",
    "'''\n",
    "\n",
    "import os\n",
    "import numpy as np\n",
    "from gym import Env, spaces\n",
    "from ple import PLE\n",
    "from ple.games import FlappyBird\n",
    "\n",
    "# os.putenv('SDL_VIDEODRIVER', 'fbcon')\n",
    "# os.environ[\"SDL_VIDEODRIVER\"] = \"dummy\"\n",
    "\n",
    "class FlappyBirdWrapper(Env):\n",
    "    metadata = {\n",
    "        'render.mode':['human','rgb_array'],\n",
    "    }\n",
    "    # 如果想把画面渲染出来，就传参display_screen=True\n",
    "    def __init__(self, **kwargs):\n",
    "        self.game = FlappyBird()\n",
    "        self.p = PLE(self.game, display_screen=True, **kwargs)\n",
    "        self.action_set = self.p.getActionSet()\n",
    "\n",
    "        # 3个输入状态：见函数self._get_obs\n",
    "        self.observation_space = spaces.Box(low=np.finfo(np.float32).min, high=np.finfo(np.float32).max, shape=(3,), dtype=np.float32)\n",
    "        # 两个输出状态：跳或者不跳\n",
    "        self.action_space = spaces.Discrete(len(self.action_set))\n",
    "\n",
    "    def _get_obs(self):\n",
    "        # 获取游戏的状态\n",
    "        state = self.game.getGameState()\n",
    "        # 小鸟与它前面一对水管中下面那根水管的水平距离\n",
    "        dist_to_pipe_horz = state[\"next_pipe_dist_to_player\"]\n",
    "        # 小鸟与它前面一对水管中下面那根水管的顶端的垂直距离\n",
    "        dist_to_pipe_bottom = state[\"player_y\"] - state[\"next_pipe_top_y\"]\n",
    "        # 获取小鸟的水平速度\n",
    "        velocity = state['player_vel']\n",
    "        # 将这些信息封装成一个数据返回\n",
    "        return np.array([dist_to_pipe_horz, dist_to_pipe_bottom, velocity])\n",
    "\n",
    "    def reset(self):\n",
    "        self.p.reset_game()\n",
    "        return self._get_obs(), dict()\n",
    "\n",
    "    def step(self, action):\n",
    "        reward = self.p.act(self.action_set[action])\n",
    "        obs = self._get_obs()\n",
    "        done = self.p.game_over()\n",
    "        truncation = False\n",
    "        return obs, reward, done, truncation, dict()\n",
    "\n",
    "    def seed(self, *args, **kwargs):\n",
    "        pass\n",
    "\n",
    "    def render(self, *args, **kwargs):\n",
    "        # self.p.initScreen()\n",
    "        rgb = self.p.getScreenRGB()\n",
    "        return rgb"
   ]
  },
  {
   "cell_type": "code",
   "execution_count": 4,
   "metadata": {},
   "outputs": [
    {
     "name": "stderr",
     "output_type": "stream",
     "text": [
      "libpng warning: iCCP: known incorrect sRGB profile\n",
      "libpng warning: iCCP: known incorrect sRGB profile\n",
      "libpng warning: iCCP: known incorrect sRGB profile\n",
      "libpng warning: iCCP: known incorrect sRGB profile\n",
      "libpng warning: iCCP: known incorrect sRGB profile\n",
      "libpng warning: iCCP: known incorrect sRGB profile\n",
      "libpng warning: iCCP: known incorrect sRGB profile\n",
      "libpng warning: iCCP: known incorrect sRGB profile\n",
      "libpng warning: iCCP: known incorrect sRGB profile\n",
      "libpng warning: iCCP: known incorrect sRGB profile\n",
      "libpng warning: iCCP: known incorrect sRGB profile\n"
     ]
    },
    {
     "data": {
      "text/plain": [
       "array([[[0, 0, 0],\n",
       "        [0, 0, 0],\n",
       "        [0, 0, 0],\n",
       "        ...,\n",
       "        [0, 0, 0],\n",
       "        [0, 0, 0],\n",
       "        [0, 0, 0]],\n",
       "\n",
       "       [[0, 0, 0],\n",
       "        [0, 0, 0],\n",
       "        [0, 0, 0],\n",
       "        ...,\n",
       "        [0, 0, 0],\n",
       "        [0, 0, 0],\n",
       "        [0, 0, 0]],\n",
       "\n",
       "       [[0, 0, 0],\n",
       "        [0, 0, 0],\n",
       "        [0, 0, 0],\n",
       "        ...,\n",
       "        [0, 0, 0],\n",
       "        [0, 0, 0],\n",
       "        [0, 0, 0]],\n",
       "\n",
       "       ...,\n",
       "\n",
       "       [[0, 0, 0],\n",
       "        [0, 0, 0],\n",
       "        [0, 0, 0],\n",
       "        ...,\n",
       "        [0, 0, 0],\n",
       "        [0, 0, 0],\n",
       "        [0, 0, 0]],\n",
       "\n",
       "       [[0, 0, 0],\n",
       "        [0, 0, 0],\n",
       "        [0, 0, 0],\n",
       "        ...,\n",
       "        [0, 0, 0],\n",
       "        [0, 0, 0],\n",
       "        [0, 0, 0]],\n",
       "\n",
       "       [[0, 0, 0],\n",
       "        [0, 0, 0],\n",
       "        [0, 0, 0],\n",
       "        ...,\n",
       "        [0, 0, 0],\n",
       "        [0, 0, 0],\n",
       "        [0, 0, 0]]], dtype=uint8)"
      ]
     },
     "execution_count": 4,
     "metadata": {},
     "output_type": "execute_result"
    }
   ],
   "source": [
    "env = FlappyBirdWrapper()\n",
    "env.reset()\n",
    "env.render()"
   ]
  },
  {
   "cell_type": "code",
   "execution_count": 7,
   "metadata": {},
   "outputs": [
    {
     "data": {
      "text/plain": [
       "(array([305., 104.,  -8.]), 0.0, False, False, {})"
      ]
     },
     "execution_count": 7,
     "metadata": {},
     "output_type": "execute_result"
    }
   ],
   "source": [
    "env.step(0)"
   ]
  },
  {
   "cell_type": "code",
   "execution_count": null,
   "metadata": {},
   "outputs": [],
   "source": []
  }
 ],
 "metadata": {
  "kernelspec": {
   "display_name": "pytorch",
   "language": "python",
   "name": "python3"
  },
  "language_info": {
   "codemirror_mode": {
    "name": "ipython",
    "version": 3
   },
   "file_extension": ".py",
   "mimetype": "text/x-python",
   "name": "python",
   "nbconvert_exporter": "python",
   "pygments_lexer": "ipython3",
   "version": "3.10.14"
  }
 },
 "nbformat": 4,
 "nbformat_minor": 2
}
