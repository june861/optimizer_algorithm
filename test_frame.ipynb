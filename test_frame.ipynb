{
 "cells": [
  {
   "cell_type": "code",
   "execution_count": 3,
   "metadata": {},
   "outputs": [
    {
     "name": "stdout",
     "output_type": "stream",
     "text": [
      "couldn't import doomish\n",
      "Couldn't import doom\n"
     ]
    }
   ],
   "source": [
    "# -*- encoding: utf-8 -*-\n",
    "'''\n",
    "@File    :   game.py\n",
    "@Time    :   2024/09/22 21:33:33\n",
    "@Author  :   junewluo \n",
    "'''\n",
    "\n",
    "import os\n",
    "import numpy as np\n",
    "from gym import Env, spaces\n",
    "from ple import PLE\n",
    "from ple.games import FlappyBird\n",
    "\n",
    "# os.putenv('SDL_VIDEODRIVER', 'fbcon')\n",
    "# os.environ[\"SDL_VIDEODRIVER\"] = \"dummy\"\n",
    "\n",
    "class FlappyBirdWrapper(Env):\n",
    "    metadata = {\n",
    "        'render.mode':['human','rgb_array'],\n",
    "    }\n",
    "    # 如果想把画面渲染出来，就传参display_screen=True\n",
    "    def __init__(self, **kwargs):\n",
    "        self.game = FlappyBird()\n",
    "        self.p = PLE(self.game, display_screen=True, **kwargs)\n",
    "        self.action_set = self.p.getActionSet()\n",
    "\n",
    "        # 3个输入状态：见函数self._get_obs\n",
    "        self.observation_space = spaces.Box(low=np.finfo(np.float32).min, high=np.finfo(np.float32).max, shape=(3,), dtype=np.float32)\n",
    "        # 两个输出状态：跳或者不跳\n",
    "        self.action_space = spaces.Discrete(len(self.action_set))\n",
    "\n",
    "    def _get_obs(self):\n",
    "        # 获取游戏的状态\n",
    "        state = self.game.getGameState()\n",
    "        # 小鸟与它前面一对水管中下面那根水管的水平距离\n",
    "        dist_to_pipe_horz = state[\"next_pipe_dist_to_player\"]\n",
    "        # 小鸟与它前面一对水管中下面那根水管的顶端的垂直距离\n",
    "        dist_to_pipe_bottom = state[\"player_y\"] - state[\"next_pipe_top_y\"]\n",
    "        # 获取小鸟的水平速度\n",
    "        velocity = state['player_vel']\n",
    "        # 将这些信息封装成一个数据返回\n",
    "        return np.array([dist_to_pipe_horz, dist_to_pipe_bottom, velocity])\n",
    "\n",
    "    def reset(self):\n",
    "        self.p.reset_game()\n",
    "        return self._get_obs(), dict()\n",
    "\n",
    "    def step(self, action):\n",
    "        reward = self.p.act(self.action_set[action])\n",
    "        obs = self._get_obs()\n",
    "        done = self.p.game_over()\n",
    "        truncation = False\n",
    "        return obs, reward, done, truncation, dict()\n",
    "\n",
    "    def seed(self, *args, **kwargs):\n",
    "        pass\n",
    "\n",
    "    def render(self, *args, **kwargs):\n",
    "        # self.p.initScreen()\n",
    "        rgb = self.p.getScreenRGB()\n",
    "        return rgb"
   ]
  },
  {
   "cell_type": "code",
   "execution_count": 4,
   "metadata": {},
   "outputs": [
    {
     "name": "stderr",
     "output_type": "stream",
     "text": [
      "libpng warning: iCCP: known incorrect sRGB profile\n",
      "libpng warning: iCCP: known incorrect sRGB profile\n",
      "libpng warning: iCCP: known incorrect sRGB profile\n",
      "libpng warning: iCCP: known incorrect sRGB profile\n",
      "libpng warning: iCCP: known incorrect sRGB profile\n",
      "libpng warning: iCCP: known incorrect sRGB profile\n",
      "libpng warning: iCCP: known incorrect sRGB profile\n",
      "libpng warning: iCCP: known incorrect sRGB profile\n",
      "libpng warning: iCCP: known incorrect sRGB profile\n",
      "libpng warning: iCCP: known incorrect sRGB profile\n",
      "libpng warning: iCCP: known incorrect sRGB profile\n"
     ]
    },
    {
     "data": {
      "text/plain": [
       "array([[[0, 0, 0],\n",
       "        [0, 0, 0],\n",
       "        [0, 0, 0],\n",
       "        ...,\n",
       "        [0, 0, 0],\n",
       "        [0, 0, 0],\n",
       "        [0, 0, 0]],\n",
       "\n",
       "       [[0, 0, 0],\n",
       "        [0, 0, 0],\n",
       "        [0, 0, 0],\n",
       "        ...,\n",
       "        [0, 0, 0],\n",
       "        [0, 0, 0],\n",
       "        [0, 0, 0]],\n",
       "\n",
       "       [[0, 0, 0],\n",
       "        [0, 0, 0],\n",
       "        [0, 0, 0],\n",
       "        ...,\n",
       "        [0, 0, 0],\n",
       "        [0, 0, 0],\n",
       "        [0, 0, 0]],\n",
       "\n",
       "       ...,\n",
       "\n",
       "       [[0, 0, 0],\n",
       "        [0, 0, 0],\n",
       "        [0, 0, 0],\n",
       "        ...,\n",
       "        [0, 0, 0],\n",
       "        [0, 0, 0],\n",
       "        [0, 0, 0]],\n",
       "\n",
       "       [[0, 0, 0],\n",
       "        [0, 0, 0],\n",
       "        [0, 0, 0],\n",
       "        ...,\n",
       "        [0, 0, 0],\n",
       "        [0, 0, 0],\n",
       "        [0, 0, 0]],\n",
       "\n",
       "       [[0, 0, 0],\n",
       "        [0, 0, 0],\n",
       "        [0, 0, 0],\n",
       "        ...,\n",
       "        [0, 0, 0],\n",
       "        [0, 0, 0],\n",
       "        [0, 0, 0]]], dtype=uint8)"
      ]
     },
     "execution_count": 4,
     "metadata": {},
     "output_type": "execute_result"
    }
   ],
   "source": [
    "env = FlappyBirdWrapper()\n",
    "env.reset()\n",
    "env.render()"
   ]
  },
  {
   "cell_type": "code",
   "execution_count": 28,
   "metadata": {},
   "outputs": [],
   "source": [
    "from ple.games import Pixelcopter, MonsterKong, Pong, PuckWorld, RaycastMaze, Snake, WaterWorld\n",
    "from ple import PLE\n",
    "env = WaterWorld()\n",
    "p = PLE(env)"
   ]
  },
  {
   "cell_type": "code",
   "execution_count": 29,
   "metadata": {},
   "outputs": [
    {
     "data": {
      "text/plain": [
       "[119, 97, 100, 115, None]"
      ]
     },
     "execution_count": 29,
     "metadata": {},
     "output_type": "execute_result"
    }
   ],
   "source": [
    "p.getActionSet()"
   ]
  },
  {
   "cell_type": "code",
   "execution_count": 30,
   "metadata": {},
   "outputs": [],
   "source": [
    "p.reset_game()"
   ]
  },
  {
   "cell_type": "code",
   "execution_count": 31,
   "metadata": {},
   "outputs": [
    {
     "data": {
      "text/plain": [
       "{'player_x': 24.0,\n",
       " 'player_y': 24.0,\n",
       " 'player_velocity_x': 0.0,\n",
       " 'player_velocity_y': 0.0,\n",
       " 'creep_dist': {'GOOD': [],\n",
       "  'BAD': [3.149111097237214, 6.472191811747367, 12.409595648120364]},\n",
       " 'creep_pos': {'GOOD': [],\n",
       "  'BAD': [[26.59262250715178, 25.787514821799412],\n",
       "   [24.5166828078779, 17.54846485523848],\n",
       "   [28.815200621367538, 12.562696684714986]]}}"
      ]
     },
     "execution_count": 31,
     "metadata": {},
     "output_type": "execute_result"
    }
   ],
   "source": [
    "env.getGameState()"
   ]
  },
  {
   "cell_type": "code",
   "execution_count": 10,
   "metadata": {},
   "outputs": [],
   "source": []
  },
  {
   "cell_type": "code",
   "execution_count": null,
   "metadata": {},
   "outputs": [],
   "source": []
  }
 ],
 "metadata": {
  "kernelspec": {
   "display_name": "pytorch",
   "language": "python",
   "name": "python3"
  },
  "language_info": {
   "codemirror_mode": {
    "name": "ipython",
    "version": 3
   },
   "file_extension": ".py",
   "mimetype": "text/x-python",
   "name": "python",
   "nbconvert_exporter": "python",
   "pygments_lexer": "ipython3",
   "version": "3.9.19"
  }
 },
 "nbformat": 4,
 "nbformat_minor": 2
}
